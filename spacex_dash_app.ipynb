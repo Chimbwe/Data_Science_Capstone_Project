{
 "cells": [
  {
   "cell_type": "code",
   "execution_count": null,
   "id": "59244b88",
   "metadata": {},
   "outputs": [],
   "source": [
    "# Import required libraries\n",
    "import pandas as pd\n",
    "import dash\n",
    "import dash_html_components as html\n",
    "import dash_core_components as dcc\n",
    "from dash.dependencies import Input, Output\n",
    "import plotly.express as px\n",
    "\n",
    "# Read the airline data into pandas dataframe\n",
    "spacex_df = pd.read_csv(\"spacex_launch_dash.csv\")\n",
    "max_payload = spacex_df['Payload Mass (kg)'].max()\n",
    "min_payload = spacex_df['Payload Mass (kg)'].min()\n",
    "\n",
    "# Create a dash application\n",
    "app = dash.Dash(__name__)\n",
    "\n",
    "# Create an app layout\n",
    "app.layout = html.Div(children=[html.H1('SpaceX Launch Records Dashboard',\n",
    "                                        style={'textAlign': 'center', 'color': '#503D36',\n",
    "                                               'font-size': 40}),\n",
    "                                # TASK 1: Add a dropdown list to enable Launch Site selection\n",
    "                                # The default select value is for ALL sites\n",
    "                                dcc.Dropdown(id='site-dropdown',\n",
    "                                            options=[{'label': 'All Sites', 'value': 'ALL'}] +\n",
    "                                                    [{'label': site, 'value': site} for site in spacex_df['Launch Site'].unique()],\n",
    "                                            value='ALL',\n",
    "                                            placeholder='Select a Launch Site here',\n",
    "                                            searchable=True\n",
    "                                            ),\n",
    "                                html.Br(),\n",
    "\n",
    "                                # TASK 2: Add a pie chart to show the total successful launches count for all sites\n",
    "                                # If a specific launch site was selected, show the Success vs. Failed counts for the site\n",
    "                                html.Div(dcc.Graph(id='success-pie-chart')),\n",
    "                                html.Br(),\n",
    "\n",
    "                                html.P(\"Payload range (Kg):\"),\n",
    "                                # TASK 3: Add a slider to select payload range\n",
    "                                dcc.RangeSlider(id='payload-slider',\n",
    "                                                min=0, max=10000, step=1000,\n",
    "                                                marks={i: str(i) for i in range(0, 10001, 1000)},\n",
    "                                                value=[min_payload, max_payload]\n",
    "                                                ),\n",
    "\n",
    "                                # TASK 4: Add a scatter chart to show the correlation between payload and launch success\n",
    "                                html.Div(dcc.Graph(id='success-payload-scatter-chart')),\n",
    "                                ])\n",
    "\n",
    "# TASK 2:\n",
    "# Add a callback function for `site-dropdown` as input, `success-pie-chart` as output\n",
    "# Function decorator to specify function input and output\n",
    "@app.callback(Output(component_id='success-pie-chart', component_property='figure'),\n",
    "              Input(component_id='site-dropdown', component_property='value')\n",
    "              )\n",
    "\n",
    "def get_pie_chart(entered_site):\n",
    "    if entered_site == 'ALL':\n",
    "        fig = px.pie(\n",
    "            spacex_df, \n",
    "            values='class', \n",
    "            names='Launch Site', \n",
    "            title='Total Success Launches by Site'\n",
    "            )\n",
    "        \n",
    "    else:\n",
    "        # return the outcomes piechart for a selected site\n",
    "        filtered_df = spacex_df[spacex_df['Launch Site'] == entered_site]\n",
    "        \n",
    "        fig = px.pie(\n",
    "            filtered_df,\n",
    "            # values='class',\n",
    "            names='class',\n",
    "            title=f'Total Success Launches for {entered_site}'\n",
    "            )\n",
    "    return fig\n",
    "\n",
    "# TASK 4:\n",
    "# Add a callback function for `site-dropdown` and `payload-slider` as inputs, `success-payload-scatter-chart` as output\n",
    "@app.callback(Output(component_id='success-payload-scatter-chart',component_property='figure'),\n",
    "            [Input(component_id='site-dropdown', component_property='value'), \n",
    "            Input(component_id='payload-slider', component_property='value')]\n",
    "            )\n",
    "\n",
    "def get_scatter_chart(selected_site, selected_payload):\n",
    "    if selected_site == 'ALL':\n",
    "        filtered_df = spacex_df[\n",
    "            (spacex_df['Payload Mass (kg)'] >= selected_payload[0]) &\n",
    "            (spacex_df['Payload Mass (kg)'] <= selected_payload[1])\n",
    "            ]\n",
    "        fig = px.scatter(\n",
    "            filtered_df,\n",
    "            x='Payload Mass (kg)', \n",
    "            y='class',\n",
    "            color='Booster Version Category', \n",
    "            title='Correlation between Payload and Success for All sites'\n",
    "            )\n",
    "\n",
    "    else:\n",
    "        # return the outcomes piechart for a selected site\n",
    "        filtered_df = spacex_df[spacex_df['Launch Site'] == selected_site]\n",
    "        filtered_df = filtered_df[\n",
    "            (filtered_df['Payload Mass (kg)'] >= selected_payload[0]) & \n",
    "            (filtered_df['Payload Mass (kg)'] <= selected_payload[1])\n",
    "            ]\n",
    "\n",
    "        fig = px.scatter(\n",
    "            filtered_df,\n",
    "            x='Payload Mass (kg)', \n",
    "            y='class',\n",
    "            color='Booster Version Category', \n",
    "            title=f'Correlation between Payload and Success for {selected_site}'\n",
    "            )\n",
    "    return fig\n",
    "\n",
    "# Run the app\n",
    "if __name__ == '__main__':\n",
    "    app.run_server()\n"
   ]
  },
  {
   "cell_type": "markdown",
   "id": "3a1387ed",
   "metadata": {},
   "source": [
    "![spacex_dash_app](https://raw.githubusercontent.com/Chimbwe/Data_Science_Capstone_Project/Child_branch/spacex_dash_app.png)"
   ]
  },
  {
   "cell_type": "markdown",
   "id": "dfade991",
   "metadata": {},
   "source": [
    "![launch_success_all_sites](https://raw.githubusercontent.com/Chimbwe/Data_Science_Capstone_Project/Child_branch/launch_success_all_sites.png)"
   ]
  },
  {
   "cell_type": "markdown",
   "id": "efcef593",
   "metadata": {},
   "source": [
    "![highest_launch_success_ratio](https://raw.githubusercontent.com/Chimbwe/Data_Science_Capstone_Project/Child_branch/highest_launch_success_ratio.png)"
   ]
  },
  {
   "cell_type": "markdown",
   "id": "d10f8c44",
   "metadata": {},
   "source": [
    "![payload_range_0-10K](https://raw.githubusercontent.com/Chimbwe/Data_Science_Capstone_Project/Child_branch/payload_range_0-10K.png)"
   ]
  },
  {
   "cell_type": "markdown",
   "id": "8494a813",
   "metadata": {},
   "source": [
    "![payload_range_0-5K](https://raw.githubusercontent.com/Chimbwe/Data_Science_Capstone_Project/Child_branch/payload_range_0-5K.png)"
   ]
  },
  {
   "cell_type": "markdown",
   "id": "4b3f2fd5",
   "metadata": {},
   "source": [
    "![payload_range_2-8K](https://raw.githubusercontent.com/Chimbwe/Data_Science_Capstone_Project/Child_branch/payload_range_2-8K.png)"
   ]
  },
  {
   "cell_type": "markdown",
   "id": "7f648fb7",
   "metadata": {},
   "source": [
    "![payload_range_3-7K](https://raw.githubusercontent.com/Chimbwe/Data_Science_Capstone_Project/Child_branch/payload_range_3-7K.png)"
   ]
  },
  {
   "cell_type": "markdown",
   "id": "ad32cd41",
   "metadata": {},
   "source": [
    "![payload_range_5-10K](https://raw.githubusercontent.com/Chimbwe/Data_Science_Capstone_Project/Child_branch/payload_range_5-10K.png)"
   ]
  }
 ],
 "metadata": {
  "kernelspec": {
   "display_name": "Python 3 (ipykernel)",
   "language": "python",
   "name": "python3"
  },
  "language_info": {
   "codemirror_mode": {
    "name": "ipython",
    "version": 3
   },
   "file_extension": ".py",
   "mimetype": "text/x-python",
   "name": "python",
   "nbconvert_exporter": "python",
   "pygments_lexer": "ipython3",
   "version": "3.9.12"
  }
 },
 "nbformat": 4,
 "nbformat_minor": 5
}
